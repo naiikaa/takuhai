{
 "cells": [
  {
   "cell_type": "code",
   "execution_count": 1,
   "metadata": {},
   "outputs": [
    {
     "name": "stdout",
     "output_type": "stream",
     "text": [
      "Generating new chain keys\n",
      "b\"\\xfa\\x9d\\xfd\\x89]\\xe9`M\\xca\\x1a\\xd0\\xab\\x12\\x8c\\x1dl'!\\x89k\\xdb0\\xb5H\\xbd\\xf8\\x1a\\x7f[\\x99\\xd0h\"\n",
      "b\"\\xfa\\x9d\\xfd\\x89]\\xe9`M\\xca\\x1a\\xd0\\xab\\x12\\x8c\\x1dl'!\\x89k\\xdb0\\xb5H\\xbd\\xf8\\x1a\\x7f[\\x99\\xd0h\"\n",
      "Resetting chain keys\n",
      "b'\\x95\\xb2\\xc9\\x07c\\xa1\\xa4\\xd6\\xe2;\\xdd`x: ~\\x89\\xcf\\xa2\\xce\\xe0\\xa1`B\\xdb\\x9fy\\x07h?.\\xf1'\n",
      "b'\\x95\\xb2\\xc9\\x07c\\xa1\\xa4\\xd6\\xe2;\\xdd`x: ~\\x89\\xcf\\xa2\\xce\\xe0\\xa1`B\\xdb\\x9fy\\x07h?.\\xf1'\n",
      "Generating new chain keys\n",
      "b'\\xe1r`\\x91\\xdd\\xc5\\x02\\x8cz\\xe6\\x0b\\xcf!\\xd8\\x84\\x99\\x94\\xbd\\x93A\\xc13i\\xd8\\xf5[h\\xa0p@fs'\n",
      "b'\\xe1r`\\x91\\xdd\\xc5\\x02\\x8cz\\xe6\\x0b\\xcf!\\xd8\\x84\\x99\\x94\\xbd\\x93A\\xc13i\\xd8\\xf5[h\\xa0p@fs'\n",
      "Resetting chain keys\n",
      "b'\\xed\\xcc&\\xe9#YK-\\xd2\\xe2\\xfd\\xa1;S\\xc3x\\xc1k\\xa97\\x97~y\\x90aD\\x8f\\x00\\xcf_\\xe4\\x1d'\n",
      "b'\\xed\\xcc&\\xe9#YK-\\xd2\\xe2\\xfd\\xa1;S\\xc3x\\xc1k\\xa97\\x97~y\\x90aD\\x8f\\x00\\xcf_\\xe4\\x1d'\n",
      "Generating new chain keys\n",
      "b\"\\xa21\\x17i\\rc?\\xd4\\xdeGWB\\x81\\xd5R\\xa7l\\xbf<\\xfcI%]\\x16\\x07'P\\x18\\xe3c\\xda\\xee\"\n",
      "b\"\\xa21\\x17i\\rc?\\xd4\\xdeGWB\\x81\\xd5R\\xa7l\\xbf<\\xfcI%]\\x16\\x07'P\\x18\\xe3c\\xda\\xee\"\n",
      "Resetting chain keys\n"
     ]
    }
   ],
   "source": [
    "from cryptographic_utils import * \n",
    "\n",
    "# Initialize shared secret from X3DH\n",
    "shared_key = os.urandom(32)\n",
    "sk_a , pk_a = sample_curve_key_pair()\n",
    "sk_b , pk_b = sample_curve_key_pair()\n",
    "\n",
    "# Initialize two ratchet instances\n",
    "alice = DoubleRatchet(shared_key, pk_a, sk_a, pk_b)\n",
    "bob = DoubleRatchet(shared_key, pk_b, sk_b, pk_a)\n",
    "\n",
    "# Alice sends initial message\n",
    "msg1 = alice.encrypt(\"Hello Bob\")\n",
    "decrypted = bob.decrypt(msg1)\n",
    "assert decrypted == \"Hello Bob\"\n",
    "\n",
    "msg2 = alice.encrypt(\"Hello Bob\")\n",
    "decrypted = bob.decrypt(msg2)\n",
    "assert decrypted == \"Hello Bob\"\n",
    "\n",
    "# Bob responds\n",
    "msg3 = bob.encrypt(\"Hi Alice\")\n",
    "decrypted = alice.decrypt(msg3)\n",
    "assert decrypted == \"Hi Alice\"\n",
    "\n",
    "# Bob responds\n",
    "msg4 = bob.encrypt(\"Hi Alice\")\n",
    "decrypted = alice.decrypt(msg4)\n",
    "assert decrypted == \"Hi Alice\"\n",
    "\n",
    "# Verify chain advancement\n",
    "assert alice.send_chain_count == 0\n",
    "assert bob.send_chain_count == 2\n",
    "\n",
    "# Test out-of-order messages\n",
    "msg5 = alice.encrypt(\"Message 5\")\n",
    "\n",
    "\n",
    "# Deliver msg4 first\n",
    "decrypted = bob.decrypt(msg5)\n",
    "assert decrypted == \"Message 5\"\n",
    "\n",
    "assert alice.send_chain_count == 1"
   ]
  }
 ],
 "metadata": {
  "kernelspec": {
   "display_name": ".venv",
   "language": "python",
   "name": "python3"
  },
  "language_info": {
   "codemirror_mode": {
    "name": "ipython",
    "version": 3
   },
   "file_extension": ".py",
   "mimetype": "text/x-python",
   "name": "python",
   "nbconvert_exporter": "python",
   "pygments_lexer": "ipython3",
   "version": "3.10.12"
  }
 },
 "nbformat": 4,
 "nbformat_minor": 2
}
