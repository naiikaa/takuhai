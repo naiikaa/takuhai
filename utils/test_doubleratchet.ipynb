{
 "cells": [
  {
   "cell_type": "code",
   "execution_count": 1,
   "metadata": {},
   "outputs": [
    {
     "name": "stdout",
     "output_type": "stream",
     "text": [
      "ck:  b'O\\x1fZ\\xe6\\xd7\\x90\\xdbj\\x84\\xc6\\xc2F\\xb8\\xa1\\x89\\xaco\\x8f\\x82?8v\\xd6\\x8f\\x96u G\\xccDx\\xb8'\n",
      "ck:  b'O\\x1fZ\\xe6\\xd7\\x90\\xdbj\\x84\\xc6\\xc2F\\xb8\\xa1\\x89\\xaco\\x8f\\x82?8v\\xd6\\x8f\\x96u G\\xccDx\\xb8'\n",
      "ck:  b'O\\x1fZ\\xe6\\xd7\\x90\\xdbj\\x84\\xc6\\xc2F\\xb8\\xa1\\x89\\xaco\\x8f\\x82?8v\\xd6\\x8f\\x96u G\\xccDx\\xb8'\n",
      "ck:  b'O\\x1fZ\\xe6\\xd7\\x90\\xdbj\\x84\\xc6\\xc2F\\xb8\\xa1\\x89\\xaco\\x8f\\x82?8v\\xd6\\x8f\\x96u G\\xccDx\\xb8'\n"
     ]
    },
    {
     "ename": "AssertionError",
     "evalue": "",
     "output_type": "error",
     "traceback": [
      "\u001b[0;31m---------------------------------------------------------------------------\u001b[0m",
      "\u001b[0;31mAssertionError\u001b[0m                            Traceback (most recent call last)",
      "Cell \u001b[0;32mIn[1], line 23\u001b[0m\n\u001b[1;32m     20\u001b[0m \u001b[38;5;28;01massert\u001b[39;00m decrypted \u001b[38;5;241m==\u001b[39m \u001b[38;5;124m\"\u001b[39m\u001b[38;5;124mHi Alice\u001b[39m\u001b[38;5;124m\"\u001b[39m\n\u001b[1;32m     22\u001b[0m \u001b[38;5;66;03m# Verify chain advancement\u001b[39;00m\n\u001b[0;32m---> 23\u001b[0m \u001b[38;5;28;01massert\u001b[39;00m alice\u001b[38;5;241m.\u001b[39msend_ratchet\u001b[38;5;241m.\u001b[39msequence \u001b[38;5;241m==\u001b[39m \u001b[38;5;241m2\u001b[39m\n\u001b[1;32m     24\u001b[0m \u001b[38;5;28;01massert\u001b[39;00m bob\u001b[38;5;241m.\u001b[39mreceive_ratchet\u001b[38;5;241m.\u001b[39msequence \u001b[38;5;241m==\u001b[39m \u001b[38;5;241m1\u001b[39m\n\u001b[1;32m     26\u001b[0m \u001b[38;5;66;03m# Test out-of-order messages\u001b[39;00m\n",
      "\u001b[0;31mAssertionError\u001b[0m: "
     ]
    }
   ],
   "source": [
    "from cryptographic_utils import * \n",
    "\n",
    "# Initialize shared secret from X3DH\n",
    "shared_key = os.urandom(32)\n",
    "sk_a , pk_a = sample_curve_key_pair()\n",
    "sk_b , pk_b = sample_curve_key_pair()\n",
    "\n",
    "# Initialize two ratchet instances\n",
    "alice = DoubleRatchet(shared_key, sk_a, pk_b)\n",
    "bob = DoubleRatchet(shared_key, sk_b, pk_a)\n",
    "\n",
    "# Alice sends initial message\n",
    "msg1 = alice.ratchet_encrypt(\"Hello Bob\")\n",
    "decrypted = bob.ratchet_decrypt(msg1)\n",
    "assert decrypted == \"Hello Bob\"\n",
    "\n",
    "# Bob responds\n",
    "msg2 = bob.ratchet_encrypt(\"Hi Alice\")\n",
    "decrypted = alice.ratchet_decrypt(msg2)\n",
    "assert decrypted == \"Hi Alice\"\n",
    "\n",
    "# Verify chain advancement\n",
    "assert alice.send_ratchet.sequence == 2\n",
    "assert bob.receive_ratchet.sequence == 1\n",
    "\n",
    "# Test out-of-order messages\n",
    "msg3 = alice.ratchet_encrypt(\"Message 3\")\n",
    "msg4 = alice.ratchet_encrypt(\"Message 4\")\n",
    "\n",
    "# Deliver msg4 first\n",
    "decrypted = bob.ratchet_decrypt(msg4)\n",
    "assert decrypted == \"Message 4\"\n",
    "\n",
    "# Then deliver msg3\n",
    "decrypted = bob.ratchet_decrypt(msg3)\n",
    "assert decrypted == \"Message 3\""
   ]
  }
 ],
 "metadata": {
  "kernelspec": {
   "display_name": ".venv",
   "language": "python",
   "name": "python3"
  },
  "language_info": {
   "codemirror_mode": {
    "name": "ipython",
    "version": 3
   },
   "file_extension": ".py",
   "mimetype": "text/x-python",
   "name": "python",
   "nbconvert_exporter": "python",
   "pygments_lexer": "ipython3",
   "version": "3.10.12"
  }
 },
 "nbformat": 4,
 "nbformat_minor": 2
}
